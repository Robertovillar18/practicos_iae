{
 "cells": [
  {
   "cell_type": "code",
   "execution_count": null,
   "metadata": {},
   "outputs": [],
   "source": [
    "A = [20, 50, 30, 10, 10]\n",
    "B = [20, 70, 10, 10, 10]\n",
    "\n",
    "# numpy.var() -> Función para calcular la varianza\n",
    "# numpy.std() -> Función para calcular la desviación estándar\n"
   ]
  }
 ],
 "metadata": {
  "language_info": {
   "name": "python"
  },
  "orig_nbformat": 4
 },
 "nbformat": 4,
 "nbformat_minor": 2
}
