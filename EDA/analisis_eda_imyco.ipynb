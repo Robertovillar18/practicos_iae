{
 "cells": [
  {
   "cell_type": "code",
   "execution_count": 158,
   "metadata": {},
   "outputs": [],
   "source": [
    "import pandas as pd\n",
    "import matplotlib.pyplot as plt\n",
    "import seaborn as sb\n",
    "import requests\n",
    "import os"
   ]
  },
  {
   "cell_type": "code",
   "execution_count": 159,
   "metadata": {},
   "outputs": [],
   "source": [
    "name = 'dataset_imputaciones_y_condenas.csv'"
   ]
  },
  {
   "cell_type": "code",
   "execution_count": 160,
   "metadata": {},
   "outputs": [],
   "source": [
    "existe = os.path.isfile(name)\n",
    "if existe==False:\n",
    "    url = 'https://catalogodatos.gub.uy/dataset/20cfecaa-f557-423b-b6fe-c137c85ecd1b/resource/34f163e4-312b-405a-9495-45e29e60cb4a/download/imputaciones-y-condenas-a-personas.csv'\n",
    "    r = requests.get(url)\n",
    "    print(r.status_code)\n",
    "\n",
    "    bytes_ = open(name, 'wb').write(r.content)\n",
    "    print('Se descargó el archivo \"',name,'\" con un tamaño de',round(bytes_ / 1024 / 1024) ,'Mb')"
   ]
  },
  {
   "cell_type": "code",
   "execution_count": 161,
   "metadata": {},
   "outputs": [],
   "source": [
    "df = pd.read_csv('dataset_imputaciones_y_condenas.csv')"
   ]
  },
  {
   "cell_type": "code",
   "execution_count": 162,
   "metadata": {},
   "outputs": [
    {
     "data": {
      "text/plain": [
       "0        7d8512869756a3669713d8da9f4931ce\n",
       "1        1e8fa52bf58e942cc0547f7e5d03497a\n",
       "2        7dec51a39f0c217c46cc20bf55a3043a\n",
       "3        0d34e7a3f7c15a109583f9823e7c613f\n",
       "4        88a662ad24ece2e7a348e67619fadb4f\n",
       "                       ...               \n",
       "68514    1c1fd41002d533b155a1356f3dfef278\n",
       "68515    d676b6429a40f9898784cd5c58c28ab8\n",
       "68516    52d8358534fef2aa9c3859ebef81591a\n",
       "68517    6a0877cc300588f99b785d3c1b0d8b55\n",
       "68518    bfa4512b3a40e980362c8da727569397\n",
       "Name: id_documento, Length: 68519, dtype: object"
      ]
     },
     "execution_count": 162,
     "metadata": {},
     "output_type": "execute_result"
    }
   ],
   "source": [
    "df.pop('id_ncci')\n",
    "df.pop('id_nunc')\n",
    "df.pop('id_documento')"
   ]
  },
  {
   "cell_type": "code",
   "execution_count": 163,
   "metadata": {},
   "outputs": [
    {
     "data": {
      "text/plain": [
       "Titulo_denuncia         55\n",
       "depto_hechos            10\n",
       "fecha_hecho              3\n",
       "mes_primera _audi        0\n",
       "fecha_primera_audi       0\n",
       "fecha_resolución      3740\n",
       "edad                  1304\n",
       "edad_tramos           1304\n",
       "sexo                  1153\n",
       "delito_imputado        124\n",
       "delitos_agrupados      124\n",
       "situación_procesal       0\n",
       "dtype: int64"
      ]
     },
     "execution_count": 163,
     "metadata": {},
     "output_type": "execute_result"
    }
   ],
   "source": [
    "df.isna().sum()"
   ]
  },
  {
   "cell_type": "code",
   "execution_count": 164,
   "metadata": {},
   "outputs": [],
   "source": [
    "df['fecha_resolución'] = pd.to_datetime(df['fecha_resolución'])\n",
    "df['fecha_primera_audi'] = pd.to_datetime(df['fecha_primera_audi'])"
   ]
  },
  {
   "cell_type": "code",
   "execution_count": 165,
   "metadata": {},
   "outputs": [
    {
     "data": {
      "text/plain": [
       "Index(['Titulo_denuncia', 'depto_hechos', 'fecha_hecho', 'mes_primera _audi',\n",
       "       'fecha_primera_audi', 'fecha_resolución', 'edad', 'edad_tramos', 'sexo',\n",
       "       'delito_imputado', 'delitos_agrupados', 'situación_procesal'],\n",
       "      dtype='object')"
      ]
     },
     "execution_count": 165,
     "metadata": {},
     "output_type": "execute_result"
    }
   ],
   "source": [
    "df.columns"
   ]
  },
  {
   "cell_type": "code",
   "execution_count": 166,
   "metadata": {},
   "outputs": [
    {
     "data": {
      "text/html": [
       "<div>\n",
       "<style scoped>\n",
       "    .dataframe tbody tr th:only-of-type {\n",
       "        vertical-align: middle;\n",
       "    }\n",
       "\n",
       "    .dataframe tbody tr th {\n",
       "        vertical-align: top;\n",
       "    }\n",
       "\n",
       "    .dataframe thead th {\n",
       "        text-align: right;\n",
       "    }\n",
       "</style>\n",
       "<table border=\"1\" class=\"dataframe\">\n",
       "  <thead>\n",
       "    <tr style=\"text-align: right;\">\n",
       "      <th></th>\n",
       "      <th>depto_hechos</th>\n",
       "      <th>edad</th>\n",
       "      <th>cant</th>\n",
       "    </tr>\n",
       "  </thead>\n",
       "  <tbody>\n",
       "    <tr>\n",
       "      <th>0</th>\n",
       "      <td>ARTIGAS</td>\n",
       "      <td>14.0</td>\n",
       "      <td>3</td>\n",
       "    </tr>\n",
       "    <tr>\n",
       "      <th>1</th>\n",
       "      <td>ARTIGAS</td>\n",
       "      <td>15.0</td>\n",
       "      <td>7</td>\n",
       "    </tr>\n",
       "    <tr>\n",
       "      <th>2</th>\n",
       "      <td>ARTIGAS</td>\n",
       "      <td>16.0</td>\n",
       "      <td>14</td>\n",
       "    </tr>\n",
       "    <tr>\n",
       "      <th>3</th>\n",
       "      <td>ARTIGAS</td>\n",
       "      <td>17.0</td>\n",
       "      <td>11</td>\n",
       "    </tr>\n",
       "    <tr>\n",
       "      <th>4</th>\n",
       "      <td>ARTIGAS</td>\n",
       "      <td>18.0</td>\n",
       "      <td>40</td>\n",
       "    </tr>\n",
       "    <tr>\n",
       "      <th>...</th>\n",
       "      <td>...</td>\n",
       "      <td>...</td>\n",
       "      <td>...</td>\n",
       "    </tr>\n",
       "    <tr>\n",
       "      <th>1217</th>\n",
       "      <td>TREINTA Y TRES</td>\n",
       "      <td>67.0</td>\n",
       "      <td>5</td>\n",
       "    </tr>\n",
       "    <tr>\n",
       "      <th>1218</th>\n",
       "      <td>TREINTA Y TRES</td>\n",
       "      <td>68.0</td>\n",
       "      <td>1</td>\n",
       "    </tr>\n",
       "    <tr>\n",
       "      <th>1219</th>\n",
       "      <td>TREINTA Y TRES</td>\n",
       "      <td>70.0</td>\n",
       "      <td>3</td>\n",
       "    </tr>\n",
       "    <tr>\n",
       "      <th>1220</th>\n",
       "      <td>TREINTA Y TRES</td>\n",
       "      <td>73.0</td>\n",
       "      <td>3</td>\n",
       "    </tr>\n",
       "    <tr>\n",
       "      <th>1221</th>\n",
       "      <td>TREINTA Y TRES</td>\n",
       "      <td>86.0</td>\n",
       "      <td>1</td>\n",
       "    </tr>\n",
       "  </tbody>\n",
       "</table>\n",
       "<p>1222 rows × 3 columns</p>\n",
       "</div>"
      ],
      "text/plain": [
       "        depto_hechos  edad  cant\n",
       "0            ARTIGAS  14.0     3\n",
       "1            ARTIGAS  15.0     7\n",
       "2            ARTIGAS  16.0    14\n",
       "3            ARTIGAS  17.0    11\n",
       "4            ARTIGAS  18.0    40\n",
       "...              ...   ...   ...\n",
       "1217  TREINTA Y TRES  67.0     5\n",
       "1218  TREINTA Y TRES  68.0     1\n",
       "1219  TREINTA Y TRES  70.0     3\n",
       "1220  TREINTA Y TRES  73.0     3\n",
       "1221  TREINTA Y TRES  86.0     1\n",
       "\n",
       "[1222 rows x 3 columns]"
      ]
     },
     "execution_count": 166,
     "metadata": {},
     "output_type": "execute_result"
    }
   ],
   "source": [
    "#df_filter = df.loc[(~df['edad'].isna())&(df['Titulo_denuncia']=='HURTO'),['Titulo_denuncia','depto_hechos','edad']]\n",
    "df_filter = df.loc[(~df['edad'].isna()),['Titulo_denuncia','depto_hechos','edad']]\n",
    "df_group1 = df_filter.groupby(['depto_hechos','edad']).agg(cant=('edad', 'count'))\n",
    "df_group1 = df_group1.reset_index()\n",
    "df_group1"
   ]
  },
  {
   "cell_type": "code",
   "execution_count": 167,
   "metadata": {},
   "outputs": [
    {
     "data": {
      "image/png": "[encoded data removed]",
      "text/plain": [
       "<Figure size 640x480 with 1 Axes>"
      ]
     },
     "metadata": {},
     "output_type": "display_data"
    }
   ],
   "source": [
    "sb.barplot(x=\"depto_hechos\",y=\"cant\",data=df_group1)\n",
    "plt.xticks(rotation=90)\n",
    "plt.show()\n"
   ]
  },
  {
   "cell_type": "code",
   "execution_count": 168,
   "metadata": {},
   "outputs": [
    {
     "data": {
      "image/png": "[encoded data removed]",
      "text/plain": [
       "<Figure size 640x480 with 1 Axes>"
      ]
     },
     "metadata": {},
     "output_type": "display_data"
    }
   ],
   "source": [
    "df_group2 = df_filter.groupby(['Titulo_denuncia','edad']).agg(cant=('edad', 'count'))\n",
    "df_group2 = df_group2.reset_index()\n",
    "df_group2 = df_group2.sort_values(by='cant', ascending=False)\n",
    "\n",
    "#sb.barplot(x=\"Titulo_denuncia\",y=\"cant\",data=df_group2.head(10))\n",
    "sb.barplot(x=\"Titulo_denuncia\",y=\"cant\",hue=\"edad\",data=df_group2.head(20))\n",
    "plt.xticks(rotation=90)\n",
    "plt.show()"
   ]
  },
  {
   "cell_type": "code",
   "execution_count": 169,
   "metadata": {},
   "outputs": [
    {
     "data": {
      "image/png": "[encoded data removed]",
      "text/plain": [
       "<Figure size 640x480 with 1 Axes>"
      ]
     },
     "metadata": {},
     "output_type": "display_data"
    }
   ],
   "source": [
    "df_group2 = df_filter.groupby(['Titulo_denuncia']).agg(cant=('Titulo_denuncia', 'count'))\n",
    "df_group2 = df_group2.reset_index()\n",
    "df_group2 = df_group2.sort_values(by='cant', ascending=False)\n",
    "df_group2\n",
    "sb.barplot(x=\"Titulo_denuncia\",y=\"cant\",data=df_group2.head(10))\n",
    "# #sb.barplot(x=\"depto_hechos\",y=\"cant\",hue=\"depto_hechos\",data=df_group1)\n",
    "plt.xticks(rotation=90)\n",
    "plt.show()"
   ]
  },
  {
   "cell_type": "code",
   "execution_count": 170,
   "metadata": {},
   "outputs": [
    {
     "data": {
      "text/html": [
       "<div>\n",
       "<style scoped>\n",
       "    .dataframe tbody tr th:only-of-type {\n",
       "        vertical-align: middle;\n",
       "    }\n",
       "\n",
       "    .dataframe tbody tr th {\n",
       "        vertical-align: top;\n",
       "    }\n",
       "\n",
       "    .dataframe thead th {\n",
       "        text-align: right;\n",
       "    }\n",
       "</style>\n",
       "<table border=\"1\" class=\"dataframe\">\n",
       "  <thead>\n",
       "    <tr style=\"text-align: right;\">\n",
       "      <th></th>\n",
       "      <th>Titulo_denuncia</th>\n",
       "    </tr>\n",
       "  </thead>\n",
       "  <tbody>\n",
       "    <tr>\n",
       "      <th>47</th>\n",
       "      <td>HURTO</td>\n",
       "    </tr>\n",
       "    <tr>\n",
       "      <th>57</th>\n",
       "      <td>ESTUPEFACIENTES</td>\n",
       "    </tr>\n",
       "    <tr>\n",
       "      <th>90</th>\n",
       "      <td>HURTO</td>\n",
       "    </tr>\n",
       "    <tr>\n",
       "      <th>138</th>\n",
       "      <td>ESTUPEFACIENTES</td>\n",
       "    </tr>\n",
       "    <tr>\n",
       "      <th>139</th>\n",
       "      <td>ESTAFA</td>\n",
       "    </tr>\n",
       "    <tr>\n",
       "      <th>...</th>\n",
       "      <td>...</td>\n",
       "    </tr>\n",
       "    <tr>\n",
       "      <th>68364</th>\n",
       "      <td>RAPIÑA</td>\n",
       "    </tr>\n",
       "    <tr>\n",
       "      <th>68402</th>\n",
       "      <td>ESTUPEFACIENTES</td>\n",
       "    </tr>\n",
       "    <tr>\n",
       "      <th>68405</th>\n",
       "      <td>HURTO</td>\n",
       "    </tr>\n",
       "    <tr>\n",
       "      <th>68433</th>\n",
       "      <td>TRÁFICO INTERNO, FABRICACIÓN ILEGAL DE ARMAS D...</td>\n",
       "    </tr>\n",
       "    <tr>\n",
       "      <th>68480</th>\n",
       "      <td>ESTUPEFACIENTES (LEY DE ESTUPEFACIENTES)</td>\n",
       "    </tr>\n",
       "  </tbody>\n",
       "</table>\n",
       "<p>1304 rows × 1 columns</p>\n",
       "</div>"
      ],
      "text/plain": [
       "                                         Titulo_denuncia\n",
       "47                                                 HURTO\n",
       "57                                       ESTUPEFACIENTES\n",
       "90                                                 HURTO\n",
       "138                                      ESTUPEFACIENTES\n",
       "139                                               ESTAFA\n",
       "...                                                  ...\n",
       "68364                                             RAPIÑA\n",
       "68402                                    ESTUPEFACIENTES\n",
       "68405                                              HURTO\n",
       "68433  TRÁFICO INTERNO, FABRICACIÓN ILEGAL DE ARMAS D...\n",
       "68480           ESTUPEFACIENTES (LEY DE ESTUPEFACIENTES)\n",
       "\n",
       "[1304 rows x 1 columns]"
      ]
     },
     "execution_count": 170,
     "metadata": {},
     "output_type": "execute_result"
    }
   ],
   "source": [
    "df.loc[df['edad'].isna(),['Titulo_denuncia']]"
   ]
  },
  {
   "cell_type": "code",
   "execution_count": 171,
   "metadata": {},
   "outputs": [
    {
     "data": {
      "text/plain": [
       "fecha_resolución    NaT\n",
       "Name: 9, dtype: object"
      ]
     },
     "execution_count": 171,
     "metadata": {},
     "output_type": "execute_result"
    }
   ],
   "source": [
    "df.loc[9,['fecha_resolución']]"
   ]
  },
  {
   "cell_type": "code",
   "execution_count": 172,
   "metadata": {},
   "outputs": [],
   "source": [
    "serie_dif_date = df['fecha_resolución']-df['fecha_primera_audi']\n",
    "df['diff_days_fpa_fr'] = serie_dif_date.dt.days"
   ]
  },
  {
   "cell_type": "code",
   "execution_count": 173,
   "metadata": {},
   "outputs": [
    {
     "data": {
      "text/html": [
       "<div>\n",
       "<style scoped>\n",
       "    .dataframe tbody tr th:only-of-type {\n",
       "        vertical-align: middle;\n",
       "    }\n",
       "\n",
       "    .dataframe tbody tr th {\n",
       "        vertical-align: top;\n",
       "    }\n",
       "\n",
       "    .dataframe thead th {\n",
       "        text-align: right;\n",
       "    }\n",
       "</style>\n",
       "<table border=\"1\" class=\"dataframe\">\n",
       "  <thead>\n",
       "    <tr style=\"text-align: right;\">\n",
       "      <th></th>\n",
       "      <th>Titulo_denuncia</th>\n",
       "      <th>depto_hechos</th>\n",
       "      <th>fecha_hecho</th>\n",
       "      <th>mes_primera _audi</th>\n",
       "      <th>fecha_primera_audi</th>\n",
       "      <th>fecha_resolución</th>\n",
       "      <th>edad</th>\n",
       "      <th>edad_tramos</th>\n",
       "      <th>sexo</th>\n",
       "      <th>delito_imputado</th>\n",
       "      <th>delitos_agrupados</th>\n",
       "      <th>situación_procesal</th>\n",
       "      <th>diff_days_fpa_fr</th>\n",
       "    </tr>\n",
       "  </thead>\n",
       "  <tbody>\n",
       "    <tr>\n",
       "      <th>9</th>\n",
       "      <td>ABUSO DE FUNCIONES EN CASOS NO PREVISTOS POR L...</td>\n",
       "      <td>MONTEVIDEO</td>\n",
       "      <td>2020-06-01</td>\n",
       "      <td>2022-03</td>\n",
       "      <td>2022-03-08</td>\n",
       "      <td>NaT</td>\n",
       "      <td>41.0</td>\n",
       "      <td>36-45</td>\n",
       "      <td>F</td>\n",
       "      <td>ABUSO DE FUNCIONES</td>\n",
       "      <td>Funcionarios publicos</td>\n",
       "      <td>FORMALIZADA, CONTINÚA INVESTIGACIÓN</td>\n",
       "      <td>NaN</td>\n",
       "    </tr>\n",
       "  </tbody>\n",
       "</table>\n",
       "</div>"
      ],
      "text/plain": [
       "                                     Titulo_denuncia depto_hechos fecha_hecho   \n",
       "9  ABUSO DE FUNCIONES EN CASOS NO PREVISTOS POR L...   MONTEVIDEO  2020-06-01  \\\n",
       "\n",
       "  mes_primera _audi fecha_primera_audi fecha_resolución  edad edad_tramos   \n",
       "9           2022-03         2022-03-08              NaT  41.0       36-45  \\\n",
       "\n",
       "  sexo     delito_imputado      delitos_agrupados   \n",
       "9    F  ABUSO DE FUNCIONES  Funcionarios publicos  \\\n",
       "\n",
       "                    situación_procesal  diff_days_fpa_fr  \n",
       "9  FORMALIZADA, CONTINÚA INVESTIGACIÓN               NaN  "
      ]
     },
     "execution_count": 173,
     "metadata": {},
     "output_type": "execute_result"
    }
   ],
   "source": [
    "df.iloc[[9]]"
   ]
  },
  {
   "cell_type": "code",
   "execution_count": 174,
   "metadata": {},
   "outputs": [],
   "source": [
    "def media_fr(delito):\n",
    "    filtered = df[(~df['diff_days_fpa_fr'].isna())&(df['delito_imputado']==delito)]\n",
    "    filtered"
   ]
  },
  {
   "cell_type": "code",
   "execution_count": 175,
   "metadata": {},
   "outputs": [
    {
     "data": {
      "text/html": [
       "<div>\n",
       "<style scoped>\n",
       "    .dataframe tbody tr th:only-of-type {\n",
       "        vertical-align: middle;\n",
       "    }\n",
       "\n",
       "    .dataframe tbody tr th {\n",
       "        vertical-align: top;\n",
       "    }\n",
       "\n",
       "    .dataframe thead th {\n",
       "        text-align: right;\n",
       "    }\n",
       "</style>\n",
       "<table border=\"1\" class=\"dataframe\">\n",
       "  <thead>\n",
       "    <tr style=\"text-align: right;\">\n",
       "      <th></th>\n",
       "      <th>Titulo_denuncia</th>\n",
       "      <th>depto_hechos</th>\n",
       "      <th>fecha_hecho</th>\n",
       "      <th>mes_primera _audi</th>\n",
       "      <th>fecha_primera_audi</th>\n",
       "      <th>fecha_resolución</th>\n",
       "      <th>edad</th>\n",
       "      <th>edad_tramos</th>\n",
       "      <th>sexo</th>\n",
       "      <th>delito_imputado</th>\n",
       "      <th>delitos_agrupados</th>\n",
       "      <th>situación_procesal</th>\n",
       "      <th>diff_days_fpa_fr</th>\n",
       "    </tr>\n",
       "  </thead>\n",
       "  <tbody>\n",
       "    <tr>\n",
       "      <th>9</th>\n",
       "      <td>ABUSO DE FUNCIONES EN CASOS NO PREVISTOS POR L...</td>\n",
       "      <td>MONTEVIDEO</td>\n",
       "      <td>2020-06-01</td>\n",
       "      <td>2022-03</td>\n",
       "      <td>2022-03-08</td>\n",
       "      <td>NaT</td>\n",
       "      <td>41.0</td>\n",
       "      <td>36-45</td>\n",
       "      <td>F</td>\n",
       "      <td>ABUSO DE FUNCIONES</td>\n",
       "      <td>Funcionarios publicos</td>\n",
       "      <td>FORMALIZADA, CONTINÚA INVESTIGACIÓN</td>\n",
       "      <td>NaN</td>\n",
       "    </tr>\n",
       "    <tr>\n",
       "      <th>11</th>\n",
       "      <td>HOMICIDIO</td>\n",
       "      <td>MONTEVIDEO</td>\n",
       "      <td>2021-07-13</td>\n",
       "      <td>2021-09</td>\n",
       "      <td>2021-09-03</td>\n",
       "      <td>NaT</td>\n",
       "      <td>33.0</td>\n",
       "      <td>26-35</td>\n",
       "      <td>M</td>\n",
       "      <td>TENENCIA NO AUTORIZADA DE ARMA DE FUEGO MUNICI...</td>\n",
       "      <td>Armas de fuego y explosivos</td>\n",
       "      <td>FORMALIZADA, CONTINÚA INVESTIGACIÓN</td>\n",
       "      <td>NaN</td>\n",
       "    </tr>\n",
       "    <tr>\n",
       "      <th>20</th>\n",
       "      <td>PORTE Y/O TENENCIA DE ARMAS</td>\n",
       "      <td>MONTEVIDEO</td>\n",
       "      <td>2022-11-01</td>\n",
       "      <td>2022-11</td>\n",
       "      <td>2022-11-02</td>\n",
       "      <td>NaT</td>\n",
       "      <td>13.0</td>\n",
       "      <td>- 18</td>\n",
       "      <td>M</td>\n",
       "      <td>PORTE Y/O TENENCIA DE ARMAS</td>\n",
       "      <td>Armas de fuego y explosivos</td>\n",
       "      <td>FORMALIZADA, CONTINÚA INVESTIGACIÓN</td>\n",
       "      <td>NaN</td>\n",
       "    </tr>\n",
       "  </tbody>\n",
       "</table>\n",
       "</div>"
      ],
      "text/plain": [
       "                                      Titulo_denuncia depto_hechos   \n",
       "9   ABUSO DE FUNCIONES EN CASOS NO PREVISTOS POR L...   MONTEVIDEO  \\\n",
       "11                                          HOMICIDIO   MONTEVIDEO   \n",
       "20                        PORTE Y/O TENENCIA DE ARMAS   MONTEVIDEO   \n",
       "\n",
       "   fecha_hecho mes_primera _audi fecha_primera_audi fecha_resolución  edad   \n",
       "9   2020-06-01           2022-03         2022-03-08              NaT  41.0  \\\n",
       "11  2021-07-13           2021-09         2021-09-03              NaT  33.0   \n",
       "20  2022-11-01           2022-11         2022-11-02              NaT  13.0   \n",
       "\n",
       "   edad_tramos sexo                                    delito_imputado   \n",
       "9        36-45    F                                 ABUSO DE FUNCIONES  \\\n",
       "11       26-35    M  TENENCIA NO AUTORIZADA DE ARMA DE FUEGO MUNICI...   \n",
       "20        - 18    M                        PORTE Y/O TENENCIA DE ARMAS   \n",
       "\n",
       "              delitos_agrupados                   situación_procesal   \n",
       "9         Funcionarios publicos  FORMALIZADA, CONTINÚA INVESTIGACIÓN  \\\n",
       "11  Armas de fuego y explosivos  FORMALIZADA, CONTINÚA INVESTIGACIÓN   \n",
       "20  Armas de fuego y explosivos  FORMALIZADA, CONTINÚA INVESTIGACIÓN   \n",
       "\n",
       "    diff_days_fpa_fr  \n",
       "9                NaN  \n",
       "11               NaN  \n",
       "20               NaN  "
      ]
     },
     "execution_count": 175,
     "metadata": {},
     "output_type": "execute_result"
    }
   ],
   "source": [
    "df.loc[df['fecha_resolución'].isnull(),:].head(3)"
   ]
  }
 ],
 "metadata": {
  "kernelspec": {
   "display_name": "Python 3",
   "language": "python",
   "name": "python3"
  },
  "language_info": {
   "codemirror_mode": {
    "name": "ipython",
    "version": 3
   },
   "file_extension": ".py",
   "mimetype": "text/x-python",
   "name": "python",
   "nbconvert_exporter": "python",
   "pygments_lexer": "ipython3",
   "version": "3.9.9"
  },
  "orig_nbformat": 4
 },
 "nbformat": 4,
 "nbformat_minor": 2
}
