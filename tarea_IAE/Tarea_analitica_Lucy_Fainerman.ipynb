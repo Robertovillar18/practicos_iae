{
  "cells": [
    {
      "attachments": {},
      "cell_type": "markdown",
      "metadata": {},
      "source": [
        "Tarea realizada por Lucy Fainerman y revisada en clase\n",
        "\n",
        "Fuente de datos:\n",
        "https://www.kaggle.com/datasets/thedevastator/supermarket-ordering-invoicing-and-sales-analysi"
      ]
    },
    {
      "cell_type": "code",
      "execution_count": 1,
      "metadata": {
        "id": "vuc6zpzeN013"
      },
      "outputs": [],
      "source": [
        "import pandas as pd"
      ]
    },
    {
      "cell_type": "code",
      "execution_count": 2,
      "metadata": {
        "colab": {
          "base_uri": "https://localhost:8080/",
          "height": 80
        },
        "id": "U7yXWy88OK0_",
        "outputId": "6b1cba7a-5bde-4542-be77-ec0e80fe6448"
      },
      "outputs": [
        {
          "data": {
            "text/html": [
              "<div>\n",
              "<style scoped>\n",
              "    .dataframe tbody tr th:only-of-type {\n",
              "        vertical-align: middle;\n",
              "    }\n",
              "\n",
              "    .dataframe tbody tr th {\n",
              "        vertical-align: top;\n",
              "    }\n",
              "\n",
              "    .dataframe thead th {\n",
              "        text-align: right;\n",
              "    }\n",
              "</style>\n",
              "<table border=\"1\" class=\"dataframe\">\n",
              "  <thead>\n",
              "    <tr style=\"text-align: right;\">\n",
              "      <th></th>\n",
              "      <th>Order Id</th>\n",
              "      <th>Date</th>\n",
              "      <th>Meal Id</th>\n",
              "      <th>Company Id</th>\n",
              "      <th>Date of Meal</th>\n",
              "      <th>Participants</th>\n",
              "      <th>Meal Price</th>\n",
              "      <th>Type of Meal</th>\n",
              "    </tr>\n",
              "  </thead>\n",
              "  <tbody>\n",
              "    <tr>\n",
              "      <th>0</th>\n",
              "      <td>839FKFW2LLX4LMBB</td>\n",
              "      <td>27-05-2016</td>\n",
              "      <td>INBUX904GIHI8YBD</td>\n",
              "      <td>LJKS5NK6788CYMUU</td>\n",
              "      <td>2016-05-31 07:00:00+02:00</td>\n",
              "      <td>['David Bishop']</td>\n",
              "      <td>469</td>\n",
              "      <td>Breakfast</td>\n",
              "    </tr>\n",
              "  </tbody>\n",
              "</table>\n",
              "</div>"
            ],
            "text/plain": [
              "           Order Id        Date           Meal Id        Company Id   \n",
              "0  839FKFW2LLX4LMBB  27-05-2016  INBUX904GIHI8YBD  LJKS5NK6788CYMUU  \\\n",
              "\n",
              "                Date of Meal      Participants  Meal Price Type of Meal  \n",
              "0  2016-05-31 07:00:00+02:00  ['David Bishop']         469    Breakfast  "
            ]
          },
          "execution_count": 2,
          "metadata": {},
          "output_type": "execute_result"
        }
      ],
      "source": [
        "Invoices= pd.read_csv(\"Invoices.csv\")\n",
        "Invoices.head(1)"
      ]
    },
    {
      "cell_type": "code",
      "execution_count": 3,
      "metadata": {
        "colab": {
          "base_uri": "https://localhost:8080/",
          "height": 80
        },
        "id": "vLIE4-8zOWz4",
        "outputId": "7bd6dc7a-8759-4fb2-d0ba-dbb4f28ccc17"
      },
      "outputs": [
        {
          "data": {
            "text/html": [
              "<div>\n",
              "<style scoped>\n",
              "    .dataframe tbody tr th:only-of-type {\n",
              "        vertical-align: middle;\n",
              "    }\n",
              "\n",
              "    .dataframe tbody tr th {\n",
              "        vertical-align: top;\n",
              "    }\n",
              "\n",
              "    .dataframe thead th {\n",
              "        text-align: right;\n",
              "    }\n",
              "</style>\n",
              "<table border=\"1\" class=\"dataframe\">\n",
              "  <thead>\n",
              "    <tr style=\"text-align: right;\">\n",
              "      <th></th>\n",
              "      <th>Order Id</th>\n",
              "      <th>Company Id</th>\n",
              "      <th>Company Name</th>\n",
              "      <th>Date</th>\n",
              "      <th>Order Value</th>\n",
              "      <th>Converted</th>\n",
              "    </tr>\n",
              "  </thead>\n",
              "  <tbody>\n",
              "    <tr>\n",
              "      <th>0</th>\n",
              "      <td>80EYLOKP9E762WKG</td>\n",
              "      <td>LJKS5NK6788CYMUU</td>\n",
              "      <td>Chimera-Chasing Casbah</td>\n",
              "      <td>18-02-2017</td>\n",
              "      <td>4875</td>\n",
              "      <td>1</td>\n",
              "    </tr>\n",
              "  </tbody>\n",
              "</table>\n",
              "</div>"
            ],
            "text/plain": [
              "           Order Id        Company Id            Company Name        Date   \n",
              "0  80EYLOKP9E762WKG  LJKS5NK6788CYMUU  Chimera-Chasing Casbah  18-02-2017  \\\n",
              "\n",
              "   Order Value  Converted  \n",
              "0         4875          1  "
            ]
          },
          "execution_count": 3,
          "metadata": {},
          "output_type": "execute_result"
        }
      ],
      "source": [
        "OrderLeads= pd.read_csv(\"OrderLeads.csv\")\n",
        "OrderLeads.head(1)"
      ]
    },
    {
      "cell_type": "code",
      "execution_count": 4,
      "metadata": {
        "id": "rW3xs5m6O9ap"
      },
      "outputs": [],
      "source": [
        "#uno las bases de datos"
      ]
    },
    {
      "cell_type": "code",
      "execution_count": 5,
      "metadata": {
        "colab": {
          "base_uri": "https://localhost:8080/"
        },
        "id": "3RQgexpD7qmJ",
        "outputId": "d1991024-837e-4fa1-a1e2-a30c54bd623a"
      },
      "outputs": [
        {
          "data": {
            "text/plain": [
              "100000"
            ]
          },
          "execution_count": 5,
          "metadata": {},
          "output_type": "execute_result"
        }
      ],
      "source": [
        "len(OrderLeads)"
      ]
    },
    {
      "cell_type": "code",
      "execution_count": 6,
      "metadata": {
        "colab": {
          "base_uri": "https://localhost:8080/"
        },
        "id": "i2kdJZ_R7tGC",
        "outputId": "d29d987f-186a-420c-dc4a-144517b4d216"
      },
      "outputs": [
        {
          "data": {
            "text/plain": [
              "50017"
            ]
          },
          "execution_count": 6,
          "metadata": {},
          "output_type": "execute_result"
        }
      ],
      "source": [
        "len(Invoices)"
      ]
    },
    {
      "cell_type": "code",
      "execution_count": 7,
      "metadata": {
        "colab": {
          "base_uri": "https://localhost:8080/",
          "height": 869
        },
        "id": "ciH4BVLZQFZA",
        "outputId": "2faa996f-a934-454d-ae53-e22db4531e18"
      },
      "outputs": [
        {
          "data": {
            "text/html": [
              "<div>\n",
              "<style scoped>\n",
              "    .dataframe tbody tr th:only-of-type {\n",
              "        vertical-align: middle;\n",
              "    }\n",
              "\n",
              "    .dataframe tbody tr th {\n",
              "        vertical-align: top;\n",
              "    }\n",
              "\n",
              "    .dataframe thead th {\n",
              "        text-align: right;\n",
              "    }\n",
              "</style>\n",
              "<table border=\"1\" class=\"dataframe\">\n",
              "  <thead>\n",
              "    <tr style=\"text-align: right;\">\n",
              "      <th></th>\n",
              "      <th>Order Id</th>\n",
              "      <th>Company Name</th>\n",
              "      <th>Order Value</th>\n",
              "      <th>Converted</th>\n",
              "      <th>Meal Id</th>\n",
              "      <th>Date of Meal</th>\n",
              "      <th>Participants</th>\n",
              "      <th>Meal Price</th>\n",
              "      <th>Type of Meal</th>\n",
              "      <th>Date</th>\n",
              "      <th>Company Id</th>\n",
              "    </tr>\n",
              "  </thead>\n",
              "  <tbody>\n",
              "    <tr>\n",
              "      <th>0</th>\n",
              "      <td>80EYLOKP9E762WKG</td>\n",
              "      <td>Chimera-Chasing Casbah</td>\n",
              "      <td>4875</td>\n",
              "      <td>1</td>\n",
              "      <td>NaN</td>\n",
              "      <td>NaN</td>\n",
              "      <td>NaN</td>\n",
              "      <td>NaN</td>\n",
              "      <td>NaN</td>\n",
              "      <td>18-02-2017</td>\n",
              "      <td>LJKS5NK6788CYMUU</td>\n",
              "    </tr>\n",
              "    <tr>\n",
              "      <th>1</th>\n",
              "      <td>TLEXR1HZWTUTBHPB</td>\n",
              "      <td>Chimera-Chasing Casbah</td>\n",
              "      <td>8425</td>\n",
              "      <td>0</td>\n",
              "      <td>NaN</td>\n",
              "      <td>NaN</td>\n",
              "      <td>NaN</td>\n",
              "      <td>NaN</td>\n",
              "      <td>NaN</td>\n",
              "      <td>30-07-2015</td>\n",
              "      <td>LJKS5NK6788CYMUU</td>\n",
              "    </tr>\n",
              "    <tr>\n",
              "      <th>2</th>\n",
              "      <td>839FKFW2LLX4LMBB</td>\n",
              "      <td>Chimera-Chasing Casbah</td>\n",
              "      <td>4837</td>\n",
              "      <td>0</td>\n",
              "      <td>INBUX904GIHI8YBD</td>\n",
              "      <td>2016-05-31 07:00:00+02:00</td>\n",
              "      <td>['David Bishop']</td>\n",
              "      <td>469.0</td>\n",
              "      <td>Breakfast</td>\n",
              "      <td>27-05-2016</td>\n",
              "      <td>LJKS5NK6788CYMUU</td>\n",
              "    </tr>\n",
              "    <tr>\n",
              "      <th>3</th>\n",
              "      <td>97OX39BGVMHODLJM</td>\n",
              "      <td>Chimera-Chasing Casbah</td>\n",
              "      <td>343</td>\n",
              "      <td>0</td>\n",
              "      <td>J0MMOOPP709DIDIE</td>\n",
              "      <td>2018-10-01 20:00:00+02:00</td>\n",
              "      <td>['David Bishop']</td>\n",
              "      <td>22.0</td>\n",
              "      <td>Dinner</td>\n",
              "      <td>27-09-2018</td>\n",
              "      <td>LJKS5NK6788CYMUU</td>\n",
              "    </tr>\n",
              "    <tr>\n",
              "      <th>4</th>\n",
              "      <td>5T4LGH4XGBWOD49Z</td>\n",
              "      <td>Chimera-Chasing Casbah</td>\n",
              "      <td>983</td>\n",
              "      <td>0</td>\n",
              "      <td>NaN</td>\n",
              "      <td>NaN</td>\n",
              "      <td>NaN</td>\n",
              "      <td>NaN</td>\n",
              "      <td>NaN</td>\n",
              "      <td>14-01-2016</td>\n",
              "      <td>LJKS5NK6788CYMUU</td>\n",
              "    </tr>\n",
              "    <tr>\n",
              "      <th>...</th>\n",
              "      <td>...</td>\n",
              "      <td>...</td>\n",
              "      <td>...</td>\n",
              "      <td>...</td>\n",
              "      <td>...</td>\n",
              "      <td>...</td>\n",
              "      <td>...</td>\n",
              "      <td>...</td>\n",
              "      <td>...</td>\n",
              "      <td>...</td>\n",
              "      <td>...</td>\n",
              "    </tr>\n",
              "    <tr>\n",
              "      <th>99995</th>\n",
              "      <td>4MFHIAQKH0HCACJM</td>\n",
              "      <td>Fierce Productivity</td>\n",
              "      <td>4851</td>\n",
              "      <td>0</td>\n",
              "      <td>NaN</td>\n",
              "      <td>NaN</td>\n",
              "      <td>NaN</td>\n",
              "      <td>NaN</td>\n",
              "      <td>NaN</td>\n",
              "      <td>25-07-2015</td>\n",
              "      <td>E4K99D4JR9E40VE1</td>\n",
              "    </tr>\n",
              "    <tr>\n",
              "      <th>99996</th>\n",
              "      <td>K1UP23P8SIY1YION</td>\n",
              "      <td>Fierce Productivity</td>\n",
              "      <td>7868</td>\n",
              "      <td>0</td>\n",
              "      <td>NaN</td>\n",
              "      <td>NaN</td>\n",
              "      <td>NaN</td>\n",
              "      <td>NaN</td>\n",
              "      <td>NaN</td>\n",
              "      <td>24-08-2015</td>\n",
              "      <td>E4K99D4JR9E40VE1</td>\n",
              "    </tr>\n",
              "    <tr>\n",
              "      <th>99997</th>\n",
              "      <td>NKHFWT5I2J9LPAPG</td>\n",
              "      <td>Fierce Productivity</td>\n",
              "      <td>5138</td>\n",
              "      <td>0</td>\n",
              "      <td>ORWFRT5TUSYGNYG7</td>\n",
              "      <td>2017-09-09 14:00:00+02:00</td>\n",
              "      <td>['Chester Mortimer' 'Robin Ramos']</td>\n",
              "      <td>365.0</td>\n",
              "      <td>Lunch</td>\n",
              "      <td>06-09-2017</td>\n",
              "      <td>E4K99D4JR9E40VE1</td>\n",
              "    </tr>\n",
              "    <tr>\n",
              "      <th>99998</th>\n",
              "      <td>OF79M3H9C44UM6PO</td>\n",
              "      <td>Fierce Productivity</td>\n",
              "      <td>2036</td>\n",
              "      <td>0</td>\n",
              "      <td>NaN</td>\n",
              "      <td>NaN</td>\n",
              "      <td>NaN</td>\n",
              "      <td>NaN</td>\n",
              "      <td>NaN</td>\n",
              "      <td>29-10-2015</td>\n",
              "      <td>E4K99D4JR9E40VE1</td>\n",
              "    </tr>\n",
              "    <tr>\n",
              "      <th>99999</th>\n",
              "      <td>EHN2QR78K2RX0FQ9</td>\n",
              "      <td>Fierce Productivity</td>\n",
              "      <td>7183</td>\n",
              "      <td>0</td>\n",
              "      <td>NaN</td>\n",
              "      <td>NaN</td>\n",
              "      <td>NaN</td>\n",
              "      <td>NaN</td>\n",
              "      <td>NaN</td>\n",
              "      <td>07-03-2015</td>\n",
              "      <td>E4K99D4JR9E40VE1</td>\n",
              "    </tr>\n",
              "  </tbody>\n",
              "</table>\n",
              "<p>100000 rows × 11 columns</p>\n",
              "</div>"
            ],
            "text/plain": [
              "               Order Id            Company Name  Order Value  Converted   \n",
              "0      80EYLOKP9E762WKG  Chimera-Chasing Casbah         4875          1  \\\n",
              "1      TLEXR1HZWTUTBHPB  Chimera-Chasing Casbah         8425          0   \n",
              "2      839FKFW2LLX4LMBB  Chimera-Chasing Casbah         4837          0   \n",
              "3      97OX39BGVMHODLJM  Chimera-Chasing Casbah          343          0   \n",
              "4      5T4LGH4XGBWOD49Z  Chimera-Chasing Casbah          983          0   \n",
              "...                 ...                     ...          ...        ...   \n",
              "99995  4MFHIAQKH0HCACJM     Fierce Productivity         4851          0   \n",
              "99996  K1UP23P8SIY1YION     Fierce Productivity         7868          0   \n",
              "99997  NKHFWT5I2J9LPAPG     Fierce Productivity         5138          0   \n",
              "99998  OF79M3H9C44UM6PO     Fierce Productivity         2036          0   \n",
              "99999  EHN2QR78K2RX0FQ9     Fierce Productivity         7183          0   \n",
              "\n",
              "                Meal Id               Date of Meal   \n",
              "0                   NaN                        NaN  \\\n",
              "1                   NaN                        NaN   \n",
              "2      INBUX904GIHI8YBD  2016-05-31 07:00:00+02:00   \n",
              "3      J0MMOOPP709DIDIE  2018-10-01 20:00:00+02:00   \n",
              "4                   NaN                        NaN   \n",
              "...                 ...                        ...   \n",
              "99995               NaN                        NaN   \n",
              "99996               NaN                        NaN   \n",
              "99997  ORWFRT5TUSYGNYG7  2017-09-09 14:00:00+02:00   \n",
              "99998               NaN                        NaN   \n",
              "99999               NaN                        NaN   \n",
              "\n",
              "                             Participants  Meal Price Type of Meal   \n",
              "0                                     NaN         NaN          NaN  \\\n",
              "1                                     NaN         NaN          NaN   \n",
              "2                        ['David Bishop']       469.0    Breakfast   \n",
              "3                        ['David Bishop']        22.0       Dinner   \n",
              "4                                     NaN         NaN          NaN   \n",
              "...                                   ...         ...          ...   \n",
              "99995                                 NaN         NaN          NaN   \n",
              "99996                                 NaN         NaN          NaN   \n",
              "99997  ['Chester Mortimer' 'Robin Ramos']       365.0        Lunch   \n",
              "99998                                 NaN         NaN          NaN   \n",
              "99999                                 NaN         NaN          NaN   \n",
              "\n",
              "             Date        Company Id  \n",
              "0      18-02-2017  LJKS5NK6788CYMUU  \n",
              "1      30-07-2015  LJKS5NK6788CYMUU  \n",
              "2      27-05-2016  LJKS5NK6788CYMUU  \n",
              "3      27-09-2018  LJKS5NK6788CYMUU  \n",
              "4      14-01-2016  LJKS5NK6788CYMUU  \n",
              "...           ...               ...  \n",
              "99995  25-07-2015  E4K99D4JR9E40VE1  \n",
              "99996  24-08-2015  E4K99D4JR9E40VE1  \n",
              "99997  06-09-2017  E4K99D4JR9E40VE1  \n",
              "99998  29-10-2015  E4K99D4JR9E40VE1  \n",
              "99999  07-03-2015  E4K99D4JR9E40VE1  \n",
              "\n",
              "[100000 rows x 11 columns]"
            ]
          },
          "execution_count": 7,
          "metadata": {},
          "output_type": "execute_result"
        }
      ],
      "source": [
        "orders_info=OrderLeads.merge(Invoices, left_on='Order Id', right_on= 'Order Id', how= 'left')\n",
        "orders_info['Date'] = orders_info['Date_x'].fillna(orders_info['Date_y'])\n",
        "orders_info.drop(['Date_x', 'Date_y'], axis=1, inplace=True)\n",
        "orders_info['Company Id'] = orders_info['Company Id_x'].fillna(orders_info['Company Id_y'])\n",
        "orders_info.drop(['Company Id_x', 'Company Id_y'], axis=1, inplace=True)\n",
        "orders_info"
      ]
    },
    {
      "cell_type": "code",
      "execution_count": 8,
      "metadata": {
        "colab": {
          "base_uri": "https://localhost:8080/"
        },
        "id": "4wJ_jIuueG2r",
        "outputId": "807ef438-c7af-4185-e259-a9cce65e0f73"
      },
      "outputs": [
        {
          "data": {
            "text/plain": [
              "Order Id            0\n",
              "Company Name        0\n",
              "Order Value         0\n",
              "Converted           0\n",
              "Meal Id         49983\n",
              "Date of Meal    49983\n",
              "Participants    49983\n",
              "Meal Price      49983\n",
              "Type of Meal    49983\n",
              "Date                0\n",
              "Company Id          0\n",
              "dtype: int64"
            ]
          },
          "execution_count": 8,
          "metadata": {},
          "output_type": "execute_result"
        }
      ],
      "source": [
        "orders_info.isnull().sum()\n",
        "#nos dice para cada columna cuantos datos nulos hay\n",
        "#Fraud_Flag tiene tantos valores porque son todas las operaciones que no son fraudulentas"
      ]
    },
    {
      "cell_type": "code",
      "execution_count": 9,
      "metadata": {
        "colab": {
          "base_uri": "https://localhost:8080/",
          "height": 869
        },
        "id": "QibAiSV9gFH_",
        "outputId": "2bb66af8-eb06-4bfa-a2c3-34f1ffdddd34"
      },
      "outputs": [
        {
          "data": {
            "text/html": [
              "<div>\n",
              "<style scoped>\n",
              "    .dataframe tbody tr th:only-of-type {\n",
              "        vertical-align: middle;\n",
              "    }\n",
              "\n",
              "    .dataframe tbody tr th {\n",
              "        vertical-align: top;\n",
              "    }\n",
              "\n",
              "    .dataframe thead th {\n",
              "        text-align: right;\n",
              "    }\n",
              "</style>\n",
              "<table border=\"1\" class=\"dataframe\">\n",
              "  <thead>\n",
              "    <tr style=\"text-align: right;\">\n",
              "      <th></th>\n",
              "      <th>Order Id</th>\n",
              "      <th>Company Name</th>\n",
              "      <th>Order Value</th>\n",
              "      <th>Converted</th>\n",
              "      <th>Meal Id</th>\n",
              "      <th>Date of Meal</th>\n",
              "      <th>Participants</th>\n",
              "      <th>Meal Price</th>\n",
              "      <th>Type of Meal</th>\n",
              "      <th>Date</th>\n",
              "      <th>Company Id</th>\n",
              "    </tr>\n",
              "  </thead>\n",
              "  <tbody>\n",
              "    <tr>\n",
              "      <th>0</th>\n",
              "      <td>80EYLOKP9E762WKG</td>\n",
              "      <td>Chimera-Chasing Casbah</td>\n",
              "      <td>4875</td>\n",
              "      <td>1</td>\n",
              "      <td>0</td>\n",
              "      <td>0</td>\n",
              "      <td>0</td>\n",
              "      <td>0.0</td>\n",
              "      <td>0</td>\n",
              "      <td>18-02-2017</td>\n",
              "      <td>LJKS5NK6788CYMUU</td>\n",
              "    </tr>\n",
              "    <tr>\n",
              "      <th>1</th>\n",
              "      <td>TLEXR1HZWTUTBHPB</td>\n",
              "      <td>Chimera-Chasing Casbah</td>\n",
              "      <td>8425</td>\n",
              "      <td>0</td>\n",
              "      <td>0</td>\n",
              "      <td>0</td>\n",
              "      <td>0</td>\n",
              "      <td>0.0</td>\n",
              "      <td>0</td>\n",
              "      <td>30-07-2015</td>\n",
              "      <td>LJKS5NK6788CYMUU</td>\n",
              "    </tr>\n",
              "    <tr>\n",
              "      <th>2</th>\n",
              "      <td>839FKFW2LLX4LMBB</td>\n",
              "      <td>Chimera-Chasing Casbah</td>\n",
              "      <td>4837</td>\n",
              "      <td>0</td>\n",
              "      <td>INBUX904GIHI8YBD</td>\n",
              "      <td>2016-05-31 07:00:00+02:00</td>\n",
              "      <td>['David Bishop']</td>\n",
              "      <td>469.0</td>\n",
              "      <td>Breakfast</td>\n",
              "      <td>27-05-2016</td>\n",
              "      <td>LJKS5NK6788CYMUU</td>\n",
              "    </tr>\n",
              "    <tr>\n",
              "      <th>3</th>\n",
              "      <td>97OX39BGVMHODLJM</td>\n",
              "      <td>Chimera-Chasing Casbah</td>\n",
              "      <td>343</td>\n",
              "      <td>0</td>\n",
              "      <td>J0MMOOPP709DIDIE</td>\n",
              "      <td>2018-10-01 20:00:00+02:00</td>\n",
              "      <td>['David Bishop']</td>\n",
              "      <td>22.0</td>\n",
              "      <td>Dinner</td>\n",
              "      <td>27-09-2018</td>\n",
              "      <td>LJKS5NK6788CYMUU</td>\n",
              "    </tr>\n",
              "    <tr>\n",
              "      <th>4</th>\n",
              "      <td>5T4LGH4XGBWOD49Z</td>\n",
              "      <td>Chimera-Chasing Casbah</td>\n",
              "      <td>983</td>\n",
              "      <td>0</td>\n",
              "      <td>0</td>\n",
              "      <td>0</td>\n",
              "      <td>0</td>\n",
              "      <td>0.0</td>\n",
              "      <td>0</td>\n",
              "      <td>14-01-2016</td>\n",
              "      <td>LJKS5NK6788CYMUU</td>\n",
              "    </tr>\n",
              "    <tr>\n",
              "      <th>...</th>\n",
              "      <td>...</td>\n",
              "      <td>...</td>\n",
              "      <td>...</td>\n",
              "      <td>...</td>\n",
              "      <td>...</td>\n",
              "      <td>...</td>\n",
              "      <td>...</td>\n",
              "      <td>...</td>\n",
              "      <td>...</td>\n",
              "      <td>...</td>\n",
              "      <td>...</td>\n",
              "    </tr>\n",
              "    <tr>\n",
              "      <th>99995</th>\n",
              "      <td>4MFHIAQKH0HCACJM</td>\n",
              "      <td>Fierce Productivity</td>\n",
              "      <td>4851</td>\n",
              "      <td>0</td>\n",
              "      <td>0</td>\n",
              "      <td>0</td>\n",
              "      <td>0</td>\n",
              "      <td>0.0</td>\n",
              "      <td>0</td>\n",
              "      <td>25-07-2015</td>\n",
              "      <td>E4K99D4JR9E40VE1</td>\n",
              "    </tr>\n",
              "    <tr>\n",
              "      <th>99996</th>\n",
              "      <td>K1UP23P8SIY1YION</td>\n",
              "      <td>Fierce Productivity</td>\n",
              "      <td>7868</td>\n",
              "      <td>0</td>\n",
              "      <td>0</td>\n",
              "      <td>0</td>\n",
              "      <td>0</td>\n",
              "      <td>0.0</td>\n",
              "      <td>0</td>\n",
              "      <td>24-08-2015</td>\n",
              "      <td>E4K99D4JR9E40VE1</td>\n",
              "    </tr>\n",
              "    <tr>\n",
              "      <th>99997</th>\n",
              "      <td>NKHFWT5I2J9LPAPG</td>\n",
              "      <td>Fierce Productivity</td>\n",
              "      <td>5138</td>\n",
              "      <td>0</td>\n",
              "      <td>ORWFRT5TUSYGNYG7</td>\n",
              "      <td>2017-09-09 14:00:00+02:00</td>\n",
              "      <td>['Chester Mortimer' 'Robin Ramos']</td>\n",
              "      <td>365.0</td>\n",
              "      <td>Lunch</td>\n",
              "      <td>06-09-2017</td>\n",
              "      <td>E4K99D4JR9E40VE1</td>\n",
              "    </tr>\n",
              "    <tr>\n",
              "      <th>99998</th>\n",
              "      <td>OF79M3H9C44UM6PO</td>\n",
              "      <td>Fierce Productivity</td>\n",
              "      <td>2036</td>\n",
              "      <td>0</td>\n",
              "      <td>0</td>\n",
              "      <td>0</td>\n",
              "      <td>0</td>\n",
              "      <td>0.0</td>\n",
              "      <td>0</td>\n",
              "      <td>29-10-2015</td>\n",
              "      <td>E4K99D4JR9E40VE1</td>\n",
              "    </tr>\n",
              "    <tr>\n",
              "      <th>99999</th>\n",
              "      <td>EHN2QR78K2RX0FQ9</td>\n",
              "      <td>Fierce Productivity</td>\n",
              "      <td>7183</td>\n",
              "      <td>0</td>\n",
              "      <td>0</td>\n",
              "      <td>0</td>\n",
              "      <td>0</td>\n",
              "      <td>0.0</td>\n",
              "      <td>0</td>\n",
              "      <td>07-03-2015</td>\n",
              "      <td>E4K99D4JR9E40VE1</td>\n",
              "    </tr>\n",
              "  </tbody>\n",
              "</table>\n",
              "<p>100000 rows × 11 columns</p>\n",
              "</div>"
            ],
            "text/plain": [
              "               Order Id            Company Name  Order Value  Converted   \n",
              "0      80EYLOKP9E762WKG  Chimera-Chasing Casbah         4875          1  \\\n",
              "1      TLEXR1HZWTUTBHPB  Chimera-Chasing Casbah         8425          0   \n",
              "2      839FKFW2LLX4LMBB  Chimera-Chasing Casbah         4837          0   \n",
              "3      97OX39BGVMHODLJM  Chimera-Chasing Casbah          343          0   \n",
              "4      5T4LGH4XGBWOD49Z  Chimera-Chasing Casbah          983          0   \n",
              "...                 ...                     ...          ...        ...   \n",
              "99995  4MFHIAQKH0HCACJM     Fierce Productivity         4851          0   \n",
              "99996  K1UP23P8SIY1YION     Fierce Productivity         7868          0   \n",
              "99997  NKHFWT5I2J9LPAPG     Fierce Productivity         5138          0   \n",
              "99998  OF79M3H9C44UM6PO     Fierce Productivity         2036          0   \n",
              "99999  EHN2QR78K2RX0FQ9     Fierce Productivity         7183          0   \n",
              "\n",
              "                Meal Id               Date of Meal   \n",
              "0                     0                          0  \\\n",
              "1                     0                          0   \n",
              "2      INBUX904GIHI8YBD  2016-05-31 07:00:00+02:00   \n",
              "3      J0MMOOPP709DIDIE  2018-10-01 20:00:00+02:00   \n",
              "4                     0                          0   \n",
              "...                 ...                        ...   \n",
              "99995                 0                          0   \n",
              "99996                 0                          0   \n",
              "99997  ORWFRT5TUSYGNYG7  2017-09-09 14:00:00+02:00   \n",
              "99998                 0                          0   \n",
              "99999                 0                          0   \n",
              "\n",
              "                             Participants  Meal Price Type of Meal   \n",
              "0                                       0         0.0            0  \\\n",
              "1                                       0         0.0            0   \n",
              "2                        ['David Bishop']       469.0    Breakfast   \n",
              "3                        ['David Bishop']        22.0       Dinner   \n",
              "4                                       0         0.0            0   \n",
              "...                                   ...         ...          ...   \n",
              "99995                                   0         0.0            0   \n",
              "99996                                   0         0.0            0   \n",
              "99997  ['Chester Mortimer' 'Robin Ramos']       365.0        Lunch   \n",
              "99998                                   0         0.0            0   \n",
              "99999                                   0         0.0            0   \n",
              "\n",
              "             Date        Company Id  \n",
              "0      18-02-2017  LJKS5NK6788CYMUU  \n",
              "1      30-07-2015  LJKS5NK6788CYMUU  \n",
              "2      27-05-2016  LJKS5NK6788CYMUU  \n",
              "3      27-09-2018  LJKS5NK6788CYMUU  \n",
              "4      14-01-2016  LJKS5NK6788CYMUU  \n",
              "...           ...               ...  \n",
              "99995  25-07-2015  E4K99D4JR9E40VE1  \n",
              "99996  24-08-2015  E4K99D4JR9E40VE1  \n",
              "99997  06-09-2017  E4K99D4JR9E40VE1  \n",
              "99998  29-10-2015  E4K99D4JR9E40VE1  \n",
              "99999  07-03-2015  E4K99D4JR9E40VE1  \n",
              "\n",
              "[100000 rows x 11 columns]"
            ]
          },
          "execution_count": 9,
          "metadata": {},
          "output_type": "execute_result"
        }
      ],
      "source": [
        "orders_info['Meal Id']=orders_info['Meal Id'].fillna(0)\n",
        "orders_info['Date of Meal']=orders_info['Date of Meal'].fillna(0)\n",
        "orders_info['Participants']=orders_info['Participants'].fillna(0)\n",
        "orders_info['Meal Price']=orders_info['Meal Price'].fillna(0)\n",
        "orders_info['Type of Meal']=orders_info['Type of Meal'].fillna(0)\n",
        "orders_info"
      ]
    },
    {
      "cell_type": "code",
      "execution_count": 10,
      "metadata": {
        "colab": {
          "base_uri": "https://localhost:8080/"
        },
        "id": "NleTTxsOglMD",
        "outputId": "80d96be1-f9b2-4a09-ac86-9271697bc687"
      },
      "outputs": [
        {
          "data": {
            "text/plain": [
              "Order Id        0\n",
              "Company Name    0\n",
              "Order Value     0\n",
              "Converted       0\n",
              "Meal Id         0\n",
              "Date of Meal    0\n",
              "Participants    0\n",
              "Meal Price      0\n",
              "Type of Meal    0\n",
              "Date            0\n",
              "Company Id      0\n",
              "dtype: int64"
            ]
          },
          "execution_count": 10,
          "metadata": {},
          "output_type": "execute_result"
        }
      ],
      "source": [
        "orders_info.isnull().sum()"
      ]
    },
    {
      "cell_type": "code",
      "execution_count": 11,
      "metadata": {
        "colab": {
          "base_uri": "https://localhost:8080/"
        },
        "id": "7tKszP2ihG0M",
        "outputId": "c8f695e2-9e75-43eb-bffe-f4386f39ad39"
      },
      "outputs": [
        {
          "data": {
            "text/plain": [
              "array([0, 'INBUX904GIHI8YBD', 'J0MMOOPP709DIDIE', ..., 'LMX18PNGWCIMG1QW',\n",
              "       '4U0VH2TGQL30X23X', 'ORWFRT5TUSYGNYG7'], dtype=object)"
            ]
          },
          "execution_count": 11,
          "metadata": {},
          "output_type": "execute_result"
        }
      ],
      "source": [
        "orders_info['Meal Id'].unique()"
      ]
    },
    {
      "cell_type": "code",
      "execution_count": 12,
      "metadata": {
        "colab": {
          "base_uri": "https://localhost:8080/",
          "height": 430
        },
        "id": "db3CIr7BhPU8",
        "outputId": "00050c9b-ac55-49b3-a9ce-62a7034b6ffc"
      },
      "outputs": [
        {
          "data": {
            "image/png": "[encoded data removed]",
            "text/plain": [
              "<Figure size 640x480 with 1 Axes>"
            ]
          },
          "metadata": {},
          "output_type": "display_data"
        }
      ],
      "source": [
        "import matplotlib.pyplot as plt\n",
        "plt.boxplot(orders_info['Order Value'].values)\n",
        "plt.show()"
      ]
    },
    {
      "cell_type": "code",
      "execution_count": 13,
      "metadata": {
        "colab": {
          "base_uri": "https://localhost:8080/"
        },
        "id": "P0GVFzgbCpA9",
        "outputId": "981c5288-f1a5-4513-a57c-08f39db97cab"
      },
      "outputs": [
        {
          "data": {
            "text/plain": [
              "count    100000.000000\n",
              "mean       5051.859850\n",
              "std        2859.400416\n",
              "min         100.000000\n",
              "25%        2586.000000\n",
              "50%        5056.000000\n",
              "75%        7528.000000\n",
              "max        9999.000000\n",
              "Name: Order Value, dtype: float64"
            ]
          },
          "execution_count": 13,
          "metadata": {},
          "output_type": "execute_result"
        }
      ],
      "source": [
        "orders_info['Order Value'].describe()"
      ]
    },
    {
      "attachments": {},
      "cell_type": "markdown",
      "metadata": {},
      "source": [
        "### Agregado por el docente en clase"
      ]
    },
    {
      "cell_type": "code",
      "execution_count": 26,
      "metadata": {},
      "outputs": [
        {
          "data": {
            "text/html": [
              "<div>\n",
              "<style scoped>\n",
              "    .dataframe tbody tr th:only-of-type {\n",
              "        vertical-align: middle;\n",
              "    }\n",
              "\n",
              "    .dataframe tbody tr th {\n",
              "        vertical-align: top;\n",
              "    }\n",
              "\n",
              "    .dataframe thead th {\n",
              "        text-align: right;\n",
              "    }\n",
              "</style>\n",
              "<table border=\"1\" class=\"dataframe\">\n",
              "  <thead>\n",
              "    <tr style=\"text-align: right;\">\n",
              "      <th></th>\n",
              "      <th>Order Id</th>\n",
              "      <th>Company Id_x</th>\n",
              "      <th>Company Name</th>\n",
              "      <th>Date_x</th>\n",
              "      <th>Order Value</th>\n",
              "      <th>Converted</th>\n",
              "      <th>Date_y</th>\n",
              "      <th>Meal Id</th>\n",
              "      <th>Company Id_y</th>\n",
              "      <th>Date of Meal</th>\n",
              "      <th>Participants</th>\n",
              "      <th>Meal Price</th>\n",
              "      <th>Type of Meal</th>\n",
              "    </tr>\n",
              "  </thead>\n",
              "  <tbody>\n",
              "    <tr>\n",
              "      <th>0</th>\n",
              "      <td>80EYLOKP9E762WKG</td>\n",
              "      <td>LJKS5NK6788CYMUU</td>\n",
              "      <td>Chimera-Chasing Casbah</td>\n",
              "      <td>18-02-2017</td>\n",
              "      <td>4875</td>\n",
              "      <td>1</td>\n",
              "      <td>NaN</td>\n",
              "      <td>NaN</td>\n",
              "      <td>NaN</td>\n",
              "      <td>NaN</td>\n",
              "      <td>NaN</td>\n",
              "      <td>NaN</td>\n",
              "      <td>NaN</td>\n",
              "    </tr>\n",
              "  </tbody>\n",
              "</table>\n",
              "</div>"
            ],
            "text/plain": [
              "           Order Id      Company Id_x            Company Name      Date_x   \n",
              "0  80EYLOKP9E762WKG  LJKS5NK6788CYMUU  Chimera-Chasing Casbah  18-02-2017  \\\n",
              "\n",
              "   Order Value  Converted Date_y Meal Id Company Id_y Date of Meal   \n",
              "0         4875          1    NaN     NaN          NaN          NaN  \\\n",
              "\n",
              "  Participants  Meal Price Type of Meal  \n",
              "0          NaN         NaN          NaN  "
            ]
          },
          "execution_count": 26,
          "metadata": {},
          "output_type": "execute_result"
        }
      ],
      "source": [
        "df_ = OrderLeads.merge(Invoices, left_on='Order Id', right_on= 'Order Id', how= 'left')\n",
        "df_.head(1)"
      ]
    },
    {
      "cell_type": "code",
      "execution_count": 27,
      "metadata": {},
      "outputs": [
        {
          "data": {
            "text/plain": [
              "85334405"
            ]
          },
          "execution_count": 27,
          "metadata": {},
          "output_type": "execute_result"
        }
      ],
      "source": [
        "orders_converted = df_[df_['Converted']==1]\n",
        "orders_converted['Order Value'].sum()"
      ]
    },
    {
      "cell_type": "code",
      "execution_count": 28,
      "metadata": {},
      "outputs": [
        {
          "data": {
            "text/plain": [
              "array([nan, 'Breakfast', 'Dinner', 'Lunch'], dtype=object)"
            ]
          },
          "execution_count": 28,
          "metadata": {},
          "output_type": "execute_result"
        }
      ],
      "source": [
        "orders_converted['Type of Meal'].unique()"
      ]
    },
    {
      "cell_type": "code",
      "execution_count": 29,
      "metadata": {},
      "outputs": [
        {
          "data": {
            "text/plain": [
              "array(['Breakfast', 'Dinner', 'Lunch'], dtype=object)"
            ]
          },
          "execution_count": 29,
          "metadata": {},
          "output_type": "execute_result"
        }
      ],
      "source": [
        "df_order_dropna = orders_converted.dropna()\n",
        "df_order_dropna['Type of Meal'].unique()"
      ]
    },
    {
      "cell_type": "code",
      "execution_count": 30,
      "metadata": {},
      "outputs": [],
      "source": [
        "df_filter = df_order_dropna.groupby('Type of Meal').count().reset_index()"
      ]
    },
    {
      "cell_type": "code",
      "execution_count": 31,
      "metadata": {},
      "outputs": [
        {
          "name": "stdout",
          "output_type": "stream",
          "text": [
            "0    Breakfast\n",
            "1       Dinner\n",
            "2        Lunch\n",
            "Name: Type of Meal, dtype: object\n",
            "0    4246\n",
            "1    4270\n",
            "2    3999\n",
            "Name: Order Id, dtype: int64\n"
          ]
        }
      ],
      "source": [
        "x = df_filter[['Type of Meal','Order Id']]['Type of Meal']\n",
        "y= df_filter[['Type of Meal','Order Id']]['Order Id']\n",
        "print(x)\n",
        "print(y)"
      ]
    },
    {
      "cell_type": "code",
      "execution_count": 32,
      "metadata": {},
      "outputs": [
        {
          "data": {
            "image/png": "[encoded data removed]",
            "text/plain": [
              "<Figure size 640x480 with 1 Axes>"
            ]
          },
          "metadata": {},
          "output_type": "display_data"
        }
      ],
      "source": [
        "plt.bar(x,y)\n",
        "plt.show()"
      ]
    }
  ],
  "metadata": {
    "colab": {
      "provenance": []
    },
    "kernelspec": {
      "display_name": "Python 3",
      "name": "python3"
    },
    "language_info": {
      "codemirror_mode": {
        "name": "ipython",
        "version": 3
      },
      "file_extension": ".py",
      "mimetype": "text/x-python",
      "name": "python",
      "nbconvert_exporter": "python",
      "pygments_lexer": "ipython3",
      "version": "3.9.9"
    }
  },
  "nbformat": 4,
  "nbformat_minor": 0
}
